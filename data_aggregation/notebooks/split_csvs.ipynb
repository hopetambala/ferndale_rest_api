{
 "cells": [
  {
   "cell_type": "markdown",
   "metadata": {},
   "source": [
    "Split csvs from large meter data file into smaller ones that can be loaded to github"
   ]
  },
  {
   "cell_type": "code",
   "execution_count": 2,
   "metadata": {},
   "outputs": [],
   "source": [
    "import pandas as pd\n",
    "import numpy as np\n",
    "import scipy as sc\n",
    "import seaborn as sns"
   ]
  },
  {
   "cell_type": "code",
   "execution_count": 3,
   "metadata": {},
   "outputs": [],
   "source": [
    "data = pd.read_csv(\"full_meter_data.csv\")"
   ]
  },
  {
   "cell_type": "code",
   "execution_count": 4,
   "metadata": {},
   "outputs": [
    {
     "data": {
      "text/html": [
       "<div>\n",
       "<style scoped>\n",
       "    .dataframe tbody tr th:only-of-type {\n",
       "        vertical-align: middle;\n",
       "    }\n",
       "\n",
       "    .dataframe tbody tr th {\n",
       "        vertical-align: top;\n",
       "    }\n",
       "\n",
       "    .dataframe thead th {\n",
       "        text-align: right;\n",
       "    }\n",
       "</style>\n",
       "<table border=\"1\" class=\"dataframe\">\n",
       "  <thead>\n",
       "    <tr style=\"text-align: right;\">\n",
       "      <th></th>\n",
       "      <th>stall</th>\n",
       "      <th>purchased</th>\n",
       "      <th>expiry</th>\n",
       "      <th>lot</th>\n",
       "      <th>start_month</th>\n",
       "      <th>start_weekday</th>\n",
       "      <th>start_hr_24</th>\n",
       "      <th>start_hr_12</th>\n",
       "      <th>end_month</th>\n",
       "      <th>end_weekday</th>\n",
       "      <th>end_hr_24</th>\n",
       "      <th>end_hr_12</th>\n",
       "    </tr>\n",
       "  </thead>\n",
       "  <tbody>\n",
       "    <tr>\n",
       "      <th>0</th>\n",
       "      <td>1724</td>\n",
       "      <td>2015-01-01 09:39:15</td>\n",
       "      <td>2015-01-01 10:09:15</td>\n",
       "      <td>Bermuda</td>\n",
       "      <td>1</td>\n",
       "      <td>Thursday</td>\n",
       "      <td>9</td>\n",
       "      <td>9am</td>\n",
       "      <td>1</td>\n",
       "      <td>Thursday</td>\n",
       "      <td>10</td>\n",
       "      <td>10am</td>\n",
       "    </tr>\n",
       "    <tr>\n",
       "      <th>1</th>\n",
       "      <td>3637</td>\n",
       "      <td>2015-01-01 10:49:53</td>\n",
       "      <td>2015-01-01 12:07:53</td>\n",
       "      <td>Lot 7--W. Troy center</td>\n",
       "      <td>1</td>\n",
       "      <td>Thursday</td>\n",
       "      <td>10</td>\n",
       "      <td>10am</td>\n",
       "      <td>1</td>\n",
       "      <td>Thursday</td>\n",
       "      <td>12</td>\n",
       "      <td>12pm</td>\n",
       "    </tr>\n",
       "    <tr>\n",
       "      <th>2</th>\n",
       "      <td>5216</td>\n",
       "      <td>2015-01-01 11:51:25</td>\n",
       "      <td>2015-01-01 13:09:25</td>\n",
       "      <td>Lot 13--E. 9-Mile (Como's)</td>\n",
       "      <td>1</td>\n",
       "      <td>Thursday</td>\n",
       "      <td>11</td>\n",
       "      <td>11am</td>\n",
       "      <td>1</td>\n",
       "      <td>Thursday</td>\n",
       "      <td>13</td>\n",
       "      <td>1pm</td>\n",
       "    </tr>\n",
       "    <tr>\n",
       "      <th>3</th>\n",
       "      <td>1324</td>\n",
       "      <td>2015-01-01 12:05:12</td>\n",
       "      <td>2015-01-01 13:35:12</td>\n",
       "      <td>E. Troy</td>\n",
       "      <td>1</td>\n",
       "      <td>Thursday</td>\n",
       "      <td>12</td>\n",
       "      <td>12pm</td>\n",
       "      <td>1</td>\n",
       "      <td>Thursday</td>\n",
       "      <td>13</td>\n",
       "      <td>1pm</td>\n",
       "    </tr>\n",
       "    <tr>\n",
       "      <th>4</th>\n",
       "      <td>3948</td>\n",
       "      <td>2015-01-01 12:10:38</td>\n",
       "      <td>2015-01-01 13:40:38</td>\n",
       "      <td>Lot 10--Library</td>\n",
       "      <td>1</td>\n",
       "      <td>Thursday</td>\n",
       "      <td>12</td>\n",
       "      <td>12pm</td>\n",
       "      <td>1</td>\n",
       "      <td>Thursday</td>\n",
       "      <td>13</td>\n",
       "      <td>1pm</td>\n",
       "    </tr>\n",
       "  </tbody>\n",
       "</table>\n",
       "</div>"
      ],
      "text/plain": [
       "   stall            purchased               expiry  \\\n",
       "0   1724  2015-01-01 09:39:15  2015-01-01 10:09:15   \n",
       "1   3637  2015-01-01 10:49:53  2015-01-01 12:07:53   \n",
       "2   5216  2015-01-01 11:51:25  2015-01-01 13:09:25   \n",
       "3   1324  2015-01-01 12:05:12  2015-01-01 13:35:12   \n",
       "4   3948  2015-01-01 12:10:38  2015-01-01 13:40:38   \n",
       "\n",
       "                          lot  start_month start_weekday  start_hr_24  \\\n",
       "0                     Bermuda            1      Thursday            9   \n",
       "1       Lot 7--W. Troy center            1      Thursday           10   \n",
       "2  Lot 13--E. 9-Mile (Como's)            1      Thursday           11   \n",
       "3                     E. Troy            1      Thursday           12   \n",
       "4             Lot 10--Library            1      Thursday           12   \n",
       "\n",
       "  start_hr_12  end_month end_weekday  end_hr_24 end_hr_12  \n",
       "0         9am          1    Thursday         10      10am  \n",
       "1        10am          1    Thursday         12      12pm  \n",
       "2        11am          1    Thursday         13       1pm  \n",
       "3        12pm          1    Thursday         13       1pm  \n",
       "4        12pm          1    Thursday         13       1pm  "
      ]
     },
     "execution_count": 4,
     "metadata": {},
     "output_type": "execute_result"
    }
   ],
   "source": [
    "data.head()"
   ]
  },
  {
   "cell_type": "code",
   "execution_count": 5,
   "metadata": {},
   "outputs": [
    {
     "data": {
      "text/plain": [
       "3481432"
      ]
     },
     "execution_count": 5,
     "metadata": {},
     "output_type": "execute_result"
    }
   ],
   "source": [
    "len(data)"
   ]
  },
  {
   "cell_type": "code",
   "execution_count": 6,
   "metadata": {},
   "outputs": [
    {
     "data": {
      "text/plain": [
       "870358.0"
      ]
     },
     "execution_count": 6,
     "metadata": {},
     "output_type": "execute_result"
    }
   ],
   "source": [
    "len(data)/4"
   ]
  },
  {
   "cell_type": "code",
   "execution_count": 11,
   "metadata": {},
   "outputs": [],
   "source": [
    "# use 900,000 rows per small data frame\n",
    "df1 = data.iloc[0:900000,]\n",
    "df2 = data.iloc[900000:1800000,]\n",
    "df3 = data.iloc[1800000:2700000,]\n",
    "df4 = data.iloc[2700000:,]"
   ]
  },
  {
   "cell_type": "code",
   "execution_count": 12,
   "metadata": {},
   "outputs": [
    {
     "name": "stdout",
     "output_type": "stream",
     "text": [
      "900000\n",
      "900000\n",
      "900000\n",
      "781432\n"
     ]
    }
   ],
   "source": [
    "print(len(df1))\n",
    "print(len(df2))\n",
    "print(len(df3))\n",
    "print(len(df4))"
   ]
  },
  {
   "cell_type": "code",
   "execution_count": 15,
   "metadata": {},
   "outputs": [],
   "source": [
    "# write smaller dfs to csv\n",
    "df1.to_csv(\"full_data_1.csv\", index=False)\n",
    "df2.to_csv(\"full_data_2.csv\", index=False)\n",
    "df3.to_csv(\"full_data_3.csv\", index=False)\n",
    "df4.to_csv(\"full_data_4.csv\", index=False)"
   ]
  },
  {
   "cell_type": "code",
   "execution_count": 16,
   "metadata": {},
   "outputs": [],
   "source": [
    "# read smaller dfs from csv\n",
    "df1 = pd.read_csv(\"full_data_1.csv\")\n",
    "df2 = pd.read_csv(\"full_data_2.csv\")\n",
    "df3 = pd.read_csv(\"full_data_3.csv\")\n",
    "df4 = pd.read_csv(\"full_data_4.csv\")"
   ]
  },
  {
   "cell_type": "code",
   "execution_count": 17,
   "metadata": {},
   "outputs": [
    {
     "name": "stdout",
     "output_type": "stream",
     "text": [
      "900000\n",
      "900000\n",
      "900000\n",
      "781432\n"
     ]
    }
   ],
   "source": [
    "# check lengths\n",
    "print(len(df1))\n",
    "print(len(df2))\n",
    "print(len(df3))\n",
    "print(len(df4))"
   ]
  },
  {
   "cell_type": "code",
   "execution_count": 18,
   "metadata": {},
   "outputs": [
    {
     "data": {
      "text/html": [
       "<div>\n",
       "<style scoped>\n",
       "    .dataframe tbody tr th:only-of-type {\n",
       "        vertical-align: middle;\n",
       "    }\n",
       "\n",
       "    .dataframe tbody tr th {\n",
       "        vertical-align: top;\n",
       "    }\n",
       "\n",
       "    .dataframe thead th {\n",
       "        text-align: right;\n",
       "    }\n",
       "</style>\n",
       "<table border=\"1\" class=\"dataframe\">\n",
       "  <thead>\n",
       "    <tr style=\"text-align: right;\">\n",
       "      <th></th>\n",
       "      <th>stall</th>\n",
       "      <th>purchased</th>\n",
       "      <th>expiry</th>\n",
       "      <th>lot</th>\n",
       "      <th>start_month</th>\n",
       "      <th>start_weekday</th>\n",
       "      <th>start_hr_24</th>\n",
       "      <th>start_hr_12</th>\n",
       "      <th>end_month</th>\n",
       "      <th>end_weekday</th>\n",
       "      <th>end_hr_24</th>\n",
       "      <th>end_hr_12</th>\n",
       "    </tr>\n",
       "  </thead>\n",
       "  <tbody>\n",
       "    <tr>\n",
       "      <th>0</th>\n",
       "      <td>1724</td>\n",
       "      <td>2015-01-01 09:39:15</td>\n",
       "      <td>2015-01-01 10:09:15</td>\n",
       "      <td>Bermuda</td>\n",
       "      <td>1</td>\n",
       "      <td>Thursday</td>\n",
       "      <td>9</td>\n",
       "      <td>9am</td>\n",
       "      <td>1</td>\n",
       "      <td>Thursday</td>\n",
       "      <td>10</td>\n",
       "      <td>10am</td>\n",
       "    </tr>\n",
       "    <tr>\n",
       "      <th>1</th>\n",
       "      <td>3637</td>\n",
       "      <td>2015-01-01 10:49:53</td>\n",
       "      <td>2015-01-01 12:07:53</td>\n",
       "      <td>Lot 7--W. Troy center</td>\n",
       "      <td>1</td>\n",
       "      <td>Thursday</td>\n",
       "      <td>10</td>\n",
       "      <td>10am</td>\n",
       "      <td>1</td>\n",
       "      <td>Thursday</td>\n",
       "      <td>12</td>\n",
       "      <td>12pm</td>\n",
       "    </tr>\n",
       "    <tr>\n",
       "      <th>2</th>\n",
       "      <td>5216</td>\n",
       "      <td>2015-01-01 11:51:25</td>\n",
       "      <td>2015-01-01 13:09:25</td>\n",
       "      <td>Lot 13--E. 9-Mile (Como's)</td>\n",
       "      <td>1</td>\n",
       "      <td>Thursday</td>\n",
       "      <td>11</td>\n",
       "      <td>11am</td>\n",
       "      <td>1</td>\n",
       "      <td>Thursday</td>\n",
       "      <td>13</td>\n",
       "      <td>1pm</td>\n",
       "    </tr>\n",
       "    <tr>\n",
       "      <th>3</th>\n",
       "      <td>1324</td>\n",
       "      <td>2015-01-01 12:05:12</td>\n",
       "      <td>2015-01-01 13:35:12</td>\n",
       "      <td>E. Troy</td>\n",
       "      <td>1</td>\n",
       "      <td>Thursday</td>\n",
       "      <td>12</td>\n",
       "      <td>12pm</td>\n",
       "      <td>1</td>\n",
       "      <td>Thursday</td>\n",
       "      <td>13</td>\n",
       "      <td>1pm</td>\n",
       "    </tr>\n",
       "    <tr>\n",
       "      <th>4</th>\n",
       "      <td>3948</td>\n",
       "      <td>2015-01-01 12:10:38</td>\n",
       "      <td>2015-01-01 13:40:38</td>\n",
       "      <td>Lot 10--Library</td>\n",
       "      <td>1</td>\n",
       "      <td>Thursday</td>\n",
       "      <td>12</td>\n",
       "      <td>12pm</td>\n",
       "      <td>1</td>\n",
       "      <td>Thursday</td>\n",
       "      <td>13</td>\n",
       "      <td>1pm</td>\n",
       "    </tr>\n",
       "  </tbody>\n",
       "</table>\n",
       "</div>"
      ],
      "text/plain": [
       "   stall            purchased               expiry  \\\n",
       "0   1724  2015-01-01 09:39:15  2015-01-01 10:09:15   \n",
       "1   3637  2015-01-01 10:49:53  2015-01-01 12:07:53   \n",
       "2   5216  2015-01-01 11:51:25  2015-01-01 13:09:25   \n",
       "3   1324  2015-01-01 12:05:12  2015-01-01 13:35:12   \n",
       "4   3948  2015-01-01 12:10:38  2015-01-01 13:40:38   \n",
       "\n",
       "                          lot  start_month start_weekday  start_hr_24  \\\n",
       "0                     Bermuda            1      Thursday            9   \n",
       "1       Lot 7--W. Troy center            1      Thursday           10   \n",
       "2  Lot 13--E. 9-Mile (Como's)            1      Thursday           11   \n",
       "3                     E. Troy            1      Thursday           12   \n",
       "4             Lot 10--Library            1      Thursday           12   \n",
       "\n",
       "  start_hr_12  end_month end_weekday  end_hr_24 end_hr_12  \n",
       "0         9am          1    Thursday         10      10am  \n",
       "1        10am          1    Thursday         12      12pm  \n",
       "2        11am          1    Thursday         13       1pm  \n",
       "3        12pm          1    Thursday         13       1pm  \n",
       "4        12pm          1    Thursday         13       1pm  "
      ]
     },
     "execution_count": 18,
     "metadata": {},
     "output_type": "execute_result"
    }
   ],
   "source": [
    "# piece smaller dfs back together\n",
    "new_data = df1.append(df2).append(df3).append(df4)\n",
    "new_data.head()"
   ]
  },
  {
   "cell_type": "code",
   "execution_count": 19,
   "metadata": {},
   "outputs": [
    {
     "data": {
      "text/plain": [
       "3481432"
      ]
     },
     "execution_count": 19,
     "metadata": {},
     "output_type": "execute_result"
    }
   ],
   "source": [
    "len(new_data)"
   ]
  },
  {
   "cell_type": "code",
   "execution_count": null,
   "metadata": {},
   "outputs": [],
   "source": []
  }
 ],
 "metadata": {
  "kernelspec": {
   "display_name": "Python [default]",
   "language": "python",
   "name": "python3"
  },
  "language_info": {
   "codemirror_mode": {
    "name": "ipython",
    "version": 3
   },
   "file_extension": ".py",
   "mimetype": "text/x-python",
   "name": "python",
   "nbconvert_exporter": "python",
   "pygments_lexer": "ipython3",
   "version": "3.6.5"
  }
 },
 "nbformat": 4,
 "nbformat_minor": 2
}
