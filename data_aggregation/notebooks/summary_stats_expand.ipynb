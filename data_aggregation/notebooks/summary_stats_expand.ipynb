{
 "cells": [
  {
   "cell_type": "markdown",
   "metadata": {},
   "source": [
    "## IMPORTS"
   ]
  },
  {
   "cell_type": "code",
   "execution_count": 1,
   "metadata": {},
   "outputs": [],
   "source": [
    "import pandas as pd\n",
    "import numpy as np\n",
    "import scipy as sc\n",
    "import seaborn as sns\n",
    "import math\n",
    "from datetime import datetime as dt\n",
    "import matplotlib as mt\n",
    "import matplotlib.pyplot as plt\n",
    "from matplotlib import pylab\n",
    "from matplotlib import cm\n",
    "import json\n",
    "import regex as re\n",
    "pd.options.mode.chained_assignment = None  # default='warn'\n",
    "pd.options.display.max_columns = 500\n",
    "plt.rcParams[\"figure.figsize\"] = [12, 9]\n",
    "plt.rcParams.update({'font.size': 18})\n",
    "mt.rc('xtick', labelsize=12) \n",
    "mt.rc('ytick', labelsize=12) "
   ]
  },
  {
   "cell_type": "markdown",
   "metadata": {},
   "source": [
    "### Function (unused) to calculate the week # at the month level (looking for a better option because this is currently inaccurate"
   ]
  },
  {
   "cell_type": "code",
   "execution_count": 2,
   "metadata": {},
   "outputs": [],
   "source": [
    "def week_of_month(dt):\n",
    "    \"\"\" Returns the week of the month for the specified date.\n",
    "    \"\"\"\n",
    "    first_day = dt.replace(day=1)\n",
    "    dom = dt.day\n",
    "    adjusted_dom = dom + first_day.weekday()\n",
    "    \n",
    "    return int(ceil(adjusted_dom/7.0))"
   ]
  },
  {
   "cell_type": "markdown",
   "metadata": {},
   "source": [
    "### CONVERT STRINGS TO ENCODED DATETIMES AND USE THESE TO ACCESS THE ROOT DATE AND YEAR"
   ]
  },
  {
   "cell_type": "code",
   "execution_count": 3,
   "metadata": {},
   "outputs": [],
   "source": [
    "data = pd.read_csv(\"full_meter_data.csv\")\n",
    "data[\"purchased\"] = pd.to_datetime(data[\"purchased\"])\n",
    "data[\"expiry\"] = pd.to_datetime(data[\"expiry\"])"
   ]
  },
  {
   "cell_type": "code",
   "execution_count": 4,
   "metadata": {},
   "outputs": [],
   "source": [
    "data[\"date\"] = data[\"purchased\"].dt.date\n",
    "data[\"year\"] = data[\"purchased\"].dt.year\n",
    "#data[\"week\"] = data[\"purchased\"].apply(week_of_month)"
   ]
  },
  {
   "cell_type": "markdown",
   "metadata": {},
   "source": [
    "## MAPPING INDIVIDUAL STALLS TO PARKING LOTS\n",
    "This provides both stall counts for each lot, as well as tells us which transactions correspond to each lot"
   ]
  },
  {
   "cell_type": "code",
   "execution_count": 5,
   "metadata": {},
   "outputs": [],
   "source": [
    "stall_data = pd.read_csv(\"stall_inventory.csv\")"
   ]
  },
  {
   "cell_type": "code",
   "execution_count": 6,
   "metadata": {},
   "outputs": [],
   "source": [
    "location_dict = {}\n",
    "stall_dict = {}\n",
    "for i, row in stall_data.iterrows():\n",
    "    # add location\n",
    "    location = row.location\n",
    "    if location in location_dict:\n",
    "        location_dict[location] += row.num_stalls\n",
    "    else:\n",
    "        location_dict[location] = row.num_stalls\n",
    "        # add stall\n",
    "    for stall in range(row.start_num, row.end_num + 1):\n",
    "        stall_dict[stall] = location"
   ]
  },
  {
   "cell_type": "markdown",
   "metadata": {},
   "source": [
    "**A new DF column that allows us to access transactions in a more granular time-based context**"
   ]
  },
  {
   "cell_type": "code",
   "execution_count": 7,
   "metadata": {},
   "outputs": [],
   "source": [
    "data[\"month_day_hr\"] = list(zip(data.start_month, data.start_weekday, data.start_hr_12))"
   ]
  },
  {
   "cell_type": "markdown",
   "metadata": {},
   "source": [
    "**Declaring two global variables (lots and context) that allow us to do a dictionary accumulation**"
   ]
  },
  {
   "cell_type": "code",
   "execution_count": 8,
   "metadata": {},
   "outputs": [],
   "source": [
    "lots = list(data.lot.unique())"
   ]
  },
  {
   "cell_type": "code",
   "execution_count": 9,
   "metadata": {},
   "outputs": [],
   "source": [
    "context = list(data.month_day_hr.unique())"
   ]
  },
  {
   "cell_type": "code",
   "execution_count": 21,
   "metadata": {},
   "outputs": [],
   "source": [
    "# create map from 12hr to 24hr\n",
    "hr_map = {'12am': 0, \n",
    "          '1am': 1, \n",
    "          '2am': 2, \n",
    "          '3am': 3, \n",
    "          '4am': 4, \n",
    "          '5am': 5, \n",
    "          '6am': 6, \n",
    "          '7am': 7, \n",
    "          '8am': 8, \n",
    "          '9am': 9, \n",
    "          '10am': 10, \n",
    "          '11am': 11, \n",
    "          '12pm': 12, \n",
    "          '1pm': 13,\n",
    "          '2pm': 14, \n",
    "          '3pm': 15, \n",
    "          '4pm': 16, \n",
    "          '5pm': 17, \n",
    "          '6pm': 18, \n",
    "          '7pm': 19, \n",
    "          '8pm': 20, \n",
    "          '9pm': 21, \n",
    "          '10pm': 22, \n",
    "          '11pm': 23}"
   ]
  },
  {
   "cell_type": "code",
   "execution_count": 38,
   "metadata": {},
   "outputs": [],
   "source": [
    "# create map from month and weekday to num days\n",
    "months = list(data.start_month.unique())\n",
    "days = list(data.start_weekday.unique())\n",
    "num_day_dict = {}\n",
    "for month in months:\n",
    "    num_day_dict[month] = {}\n",
    "    for day in days:\n",
    "        num_day_dict[month][day] = len(list(data.query(\"(start_month == @month) & (start_weekday == @day)\").date.unique()))"
   ]
  },
  {
   "cell_type": "code",
   "execution_count": 10,
   "metadata": {},
   "outputs": [
    {
     "data": {
      "text/html": [
       "<div>\n",
       "<style scoped>\n",
       "    .dataframe tbody tr th:only-of-type {\n",
       "        vertical-align: middle;\n",
       "    }\n",
       "\n",
       "    .dataframe tbody tr th {\n",
       "        vertical-align: top;\n",
       "    }\n",
       "\n",
       "    .dataframe thead th {\n",
       "        text-align: right;\n",
       "    }\n",
       "</style>\n",
       "<table border=\"1\" class=\"dataframe\">\n",
       "  <thead>\n",
       "    <tr style=\"text-align: right;\">\n",
       "      <th></th>\n",
       "      <th>stall</th>\n",
       "      <th>purchased</th>\n",
       "      <th>expiry</th>\n",
       "      <th>lot</th>\n",
       "      <th>start_month</th>\n",
       "      <th>start_weekday</th>\n",
       "      <th>start_hr_24</th>\n",
       "      <th>start_hr_12</th>\n",
       "      <th>end_month</th>\n",
       "      <th>end_weekday</th>\n",
       "      <th>end_hr_24</th>\n",
       "      <th>end_hr_12</th>\n",
       "      <th>date</th>\n",
       "      <th>year</th>\n",
       "      <th>month_day_hr</th>\n",
       "    </tr>\n",
       "  </thead>\n",
       "  <tbody>\n",
       "    <tr>\n",
       "      <th>0</th>\n",
       "      <td>1724</td>\n",
       "      <td>2015-01-01 09:39:15</td>\n",
       "      <td>2015-01-01 10:09:15</td>\n",
       "      <td>Bermuda</td>\n",
       "      <td>1</td>\n",
       "      <td>Thursday</td>\n",
       "      <td>9</td>\n",
       "      <td>9am</td>\n",
       "      <td>1</td>\n",
       "      <td>Thursday</td>\n",
       "      <td>10</td>\n",
       "      <td>10am</td>\n",
       "      <td>2015-01-01</td>\n",
       "      <td>2015</td>\n",
       "      <td>(1, Thursday, 9am)</td>\n",
       "    </tr>\n",
       "    <tr>\n",
       "      <th>1</th>\n",
       "      <td>3637</td>\n",
       "      <td>2015-01-01 10:49:53</td>\n",
       "      <td>2015-01-01 12:07:53</td>\n",
       "      <td>Lot 7--W. Troy center</td>\n",
       "      <td>1</td>\n",
       "      <td>Thursday</td>\n",
       "      <td>10</td>\n",
       "      <td>10am</td>\n",
       "      <td>1</td>\n",
       "      <td>Thursday</td>\n",
       "      <td>12</td>\n",
       "      <td>12pm</td>\n",
       "      <td>2015-01-01</td>\n",
       "      <td>2015</td>\n",
       "      <td>(1, Thursday, 10am)</td>\n",
       "    </tr>\n",
       "    <tr>\n",
       "      <th>2</th>\n",
       "      <td>5216</td>\n",
       "      <td>2015-01-01 11:51:25</td>\n",
       "      <td>2015-01-01 13:09:25</td>\n",
       "      <td>Lot 13--E. 9-Mile (Como's)</td>\n",
       "      <td>1</td>\n",
       "      <td>Thursday</td>\n",
       "      <td>11</td>\n",
       "      <td>11am</td>\n",
       "      <td>1</td>\n",
       "      <td>Thursday</td>\n",
       "      <td>13</td>\n",
       "      <td>1pm</td>\n",
       "      <td>2015-01-01</td>\n",
       "      <td>2015</td>\n",
       "      <td>(1, Thursday, 11am)</td>\n",
       "    </tr>\n",
       "    <tr>\n",
       "      <th>3</th>\n",
       "      <td>1324</td>\n",
       "      <td>2015-01-01 12:05:12</td>\n",
       "      <td>2015-01-01 13:35:12</td>\n",
       "      <td>E. Troy</td>\n",
       "      <td>1</td>\n",
       "      <td>Thursday</td>\n",
       "      <td>12</td>\n",
       "      <td>12pm</td>\n",
       "      <td>1</td>\n",
       "      <td>Thursday</td>\n",
       "      <td>13</td>\n",
       "      <td>1pm</td>\n",
       "      <td>2015-01-01</td>\n",
       "      <td>2015</td>\n",
       "      <td>(1, Thursday, 12pm)</td>\n",
       "    </tr>\n",
       "    <tr>\n",
       "      <th>4</th>\n",
       "      <td>3948</td>\n",
       "      <td>2015-01-01 12:10:38</td>\n",
       "      <td>2015-01-01 13:40:38</td>\n",
       "      <td>Lot 10--Library</td>\n",
       "      <td>1</td>\n",
       "      <td>Thursday</td>\n",
       "      <td>12</td>\n",
       "      <td>12pm</td>\n",
       "      <td>1</td>\n",
       "      <td>Thursday</td>\n",
       "      <td>13</td>\n",
       "      <td>1pm</td>\n",
       "      <td>2015-01-01</td>\n",
       "      <td>2015</td>\n",
       "      <td>(1, Thursday, 12pm)</td>\n",
       "    </tr>\n",
       "    <tr>\n",
       "      <th>5</th>\n",
       "      <td>2381</td>\n",
       "      <td>2015-01-01 12:19:33</td>\n",
       "      <td>2015-01-01 15:19:33</td>\n",
       "      <td>Lot 3--S. Withington</td>\n",
       "      <td>1</td>\n",
       "      <td>Thursday</td>\n",
       "      <td>12</td>\n",
       "      <td>12pm</td>\n",
       "      <td>1</td>\n",
       "      <td>Thursday</td>\n",
       "      <td>15</td>\n",
       "      <td>3pm</td>\n",
       "      <td>2015-01-01</td>\n",
       "      <td>2015</td>\n",
       "      <td>(1, Thursday, 12pm)</td>\n",
       "    </tr>\n",
       "    <tr>\n",
       "      <th>6</th>\n",
       "      <td>1499</td>\n",
       "      <td>2015-01-01 12:31:04</td>\n",
       "      <td>2015-01-01 14:31:03</td>\n",
       "      <td>W. Nine Mile</td>\n",
       "      <td>1</td>\n",
       "      <td>Thursday</td>\n",
       "      <td>12</td>\n",
       "      <td>12pm</td>\n",
       "      <td>1</td>\n",
       "      <td>Thursday</td>\n",
       "      <td>14</td>\n",
       "      <td>2pm</td>\n",
       "      <td>2015-01-01</td>\n",
       "      <td>2015</td>\n",
       "      <td>(1, Thursday, 12pm)</td>\n",
       "    </tr>\n",
       "    <tr>\n",
       "      <th>7</th>\n",
       "      <td>2382</td>\n",
       "      <td>2015-01-01 12:41:44</td>\n",
       "      <td>2015-01-01 15:41:44</td>\n",
       "      <td>Lot 3--S. Withington</td>\n",
       "      <td>1</td>\n",
       "      <td>Thursday</td>\n",
       "      <td>12</td>\n",
       "      <td>12pm</td>\n",
       "      <td>1</td>\n",
       "      <td>Thursday</td>\n",
       "      <td>15</td>\n",
       "      <td>3pm</td>\n",
       "      <td>2015-01-01</td>\n",
       "      <td>2015</td>\n",
       "      <td>(1, Thursday, 12pm)</td>\n",
       "    </tr>\n",
       "    <tr>\n",
       "      <th>8</th>\n",
       "      <td>5218</td>\n",
       "      <td>2015-01-01 12:50:23</td>\n",
       "      <td>2015-01-01 14:50:23</td>\n",
       "      <td>Lot 13--E. 9-Mile (Como's)</td>\n",
       "      <td>1</td>\n",
       "      <td>Thursday</td>\n",
       "      <td>12</td>\n",
       "      <td>12pm</td>\n",
       "      <td>1</td>\n",
       "      <td>Thursday</td>\n",
       "      <td>14</td>\n",
       "      <td>2pm</td>\n",
       "      <td>2015-01-01</td>\n",
       "      <td>2015</td>\n",
       "      <td>(1, Thursday, 12pm)</td>\n",
       "    </tr>\n",
       "    <tr>\n",
       "      <th>9</th>\n",
       "      <td>3948</td>\n",
       "      <td>2015-01-01 13:38:19</td>\n",
       "      <td>2015-01-01 14:56:19</td>\n",
       "      <td>Lot 10--Library</td>\n",
       "      <td>1</td>\n",
       "      <td>Thursday</td>\n",
       "      <td>13</td>\n",
       "      <td>1pm</td>\n",
       "      <td>1</td>\n",
       "      <td>Thursday</td>\n",
       "      <td>14</td>\n",
       "      <td>2pm</td>\n",
       "      <td>2015-01-01</td>\n",
       "      <td>2015</td>\n",
       "      <td>(1, Thursday, 1pm)</td>\n",
       "    </tr>\n",
       "  </tbody>\n",
       "</table>\n",
       "</div>"
      ],
      "text/plain": [
       "   stall           purchased              expiry                         lot  \\\n",
       "0   1724 2015-01-01 09:39:15 2015-01-01 10:09:15                     Bermuda   \n",
       "1   3637 2015-01-01 10:49:53 2015-01-01 12:07:53       Lot 7--W. Troy center   \n",
       "2   5216 2015-01-01 11:51:25 2015-01-01 13:09:25  Lot 13--E. 9-Mile (Como's)   \n",
       "3   1324 2015-01-01 12:05:12 2015-01-01 13:35:12                     E. Troy   \n",
       "4   3948 2015-01-01 12:10:38 2015-01-01 13:40:38             Lot 10--Library   \n",
       "5   2381 2015-01-01 12:19:33 2015-01-01 15:19:33        Lot 3--S. Withington   \n",
       "6   1499 2015-01-01 12:31:04 2015-01-01 14:31:03                W. Nine Mile   \n",
       "7   2382 2015-01-01 12:41:44 2015-01-01 15:41:44        Lot 3--S. Withington   \n",
       "8   5218 2015-01-01 12:50:23 2015-01-01 14:50:23  Lot 13--E. 9-Mile (Como's)   \n",
       "9   3948 2015-01-01 13:38:19 2015-01-01 14:56:19             Lot 10--Library   \n",
       "\n",
       "   start_month start_weekday  start_hr_24 start_hr_12  end_month end_weekday  \\\n",
       "0            1      Thursday            9         9am          1    Thursday   \n",
       "1            1      Thursday           10        10am          1    Thursday   \n",
       "2            1      Thursday           11        11am          1    Thursday   \n",
       "3            1      Thursday           12        12pm          1    Thursday   \n",
       "4            1      Thursday           12        12pm          1    Thursday   \n",
       "5            1      Thursday           12        12pm          1    Thursday   \n",
       "6            1      Thursday           12        12pm          1    Thursday   \n",
       "7            1      Thursday           12        12pm          1    Thursday   \n",
       "8            1      Thursday           12        12pm          1    Thursday   \n",
       "9            1      Thursday           13         1pm          1    Thursday   \n",
       "\n",
       "   end_hr_24 end_hr_12        date  year         month_day_hr  \n",
       "0         10      10am  2015-01-01  2015   (1, Thursday, 9am)  \n",
       "1         12      12pm  2015-01-01  2015  (1, Thursday, 10am)  \n",
       "2         13       1pm  2015-01-01  2015  (1, Thursday, 11am)  \n",
       "3         13       1pm  2015-01-01  2015  (1, Thursday, 12pm)  \n",
       "4         13       1pm  2015-01-01  2015  (1, Thursday, 12pm)  \n",
       "5         15       3pm  2015-01-01  2015  (1, Thursday, 12pm)  \n",
       "6         14       2pm  2015-01-01  2015  (1, Thursday, 12pm)  \n",
       "7         15       3pm  2015-01-01  2015  (1, Thursday, 12pm)  \n",
       "8         14       2pm  2015-01-01  2015  (1, Thursday, 12pm)  \n",
       "9         14       2pm  2015-01-01  2015   (1, Thursday, 1pm)  "
      ]
     },
     "execution_count": 10,
     "metadata": {},
     "output_type": "execute_result"
    }
   ],
   "source": [
    "data.head(10)"
   ]
  },
  {
   "cell_type": "markdown",
   "metadata": {},
   "source": [
    "**EXPAND DATA FRAME**"
   ]
  },
  {
   "cell_type": "code",
   "execution_count": 11,
   "metadata": {},
   "outputs": [],
   "source": [
    "# add start and end minute columns\n",
    "def get_minute(dt):\n",
    "    return(dt.minute)\n",
    "data['start_min'] = data.purchased.apply(get_minute)\n",
    "data['end_min'] = data.expiry.apply(get_minute)"
   ]
  },
  {
   "cell_type": "code",
   "execution_count": 12,
   "metadata": {},
   "outputs": [
    {
     "data": {
      "text/html": [
       "<div>\n",
       "<style scoped>\n",
       "    .dataframe tbody tr th:only-of-type {\n",
       "        vertical-align: middle;\n",
       "    }\n",
       "\n",
       "    .dataframe tbody tr th {\n",
       "        vertical-align: top;\n",
       "    }\n",
       "\n",
       "    .dataframe thead th {\n",
       "        text-align: right;\n",
       "    }\n",
       "</style>\n",
       "<table border=\"1\" class=\"dataframe\">\n",
       "  <thead>\n",
       "    <tr style=\"text-align: right;\">\n",
       "      <th></th>\n",
       "      <th>stall</th>\n",
       "      <th>purchased</th>\n",
       "      <th>expiry</th>\n",
       "      <th>lot</th>\n",
       "      <th>start_month</th>\n",
       "      <th>start_weekday</th>\n",
       "      <th>start_hr_24</th>\n",
       "      <th>start_hr_12</th>\n",
       "      <th>end_month</th>\n",
       "      <th>end_weekday</th>\n",
       "      <th>end_hr_24</th>\n",
       "      <th>end_hr_12</th>\n",
       "      <th>date</th>\n",
       "      <th>year</th>\n",
       "      <th>month_day_hr</th>\n",
       "      <th>start_min</th>\n",
       "      <th>end_min</th>\n",
       "    </tr>\n",
       "  </thead>\n",
       "  <tbody>\n",
       "    <tr>\n",
       "      <th>0</th>\n",
       "      <td>1724</td>\n",
       "      <td>2015-01-01 09:39:15</td>\n",
       "      <td>2015-01-01 10:09:15</td>\n",
       "      <td>Bermuda</td>\n",
       "      <td>1</td>\n",
       "      <td>Thursday</td>\n",
       "      <td>9</td>\n",
       "      <td>9am</td>\n",
       "      <td>1</td>\n",
       "      <td>Thursday</td>\n",
       "      <td>10</td>\n",
       "      <td>10am</td>\n",
       "      <td>2015-01-01</td>\n",
       "      <td>2015</td>\n",
       "      <td>(1, Thursday, 9am)</td>\n",
       "      <td>39</td>\n",
       "      <td>9</td>\n",
       "    </tr>\n",
       "    <tr>\n",
       "      <th>1</th>\n",
       "      <td>3637</td>\n",
       "      <td>2015-01-01 10:49:53</td>\n",
       "      <td>2015-01-01 12:07:53</td>\n",
       "      <td>Lot 7--W. Troy center</td>\n",
       "      <td>1</td>\n",
       "      <td>Thursday</td>\n",
       "      <td>10</td>\n",
       "      <td>10am</td>\n",
       "      <td>1</td>\n",
       "      <td>Thursday</td>\n",
       "      <td>12</td>\n",
       "      <td>12pm</td>\n",
       "      <td>2015-01-01</td>\n",
       "      <td>2015</td>\n",
       "      <td>(1, Thursday, 10am)</td>\n",
       "      <td>49</td>\n",
       "      <td>7</td>\n",
       "    </tr>\n",
       "    <tr>\n",
       "      <th>2</th>\n",
       "      <td>5216</td>\n",
       "      <td>2015-01-01 11:51:25</td>\n",
       "      <td>2015-01-01 13:09:25</td>\n",
       "      <td>Lot 13--E. 9-Mile (Como's)</td>\n",
       "      <td>1</td>\n",
       "      <td>Thursday</td>\n",
       "      <td>11</td>\n",
       "      <td>11am</td>\n",
       "      <td>1</td>\n",
       "      <td>Thursday</td>\n",
       "      <td>13</td>\n",
       "      <td>1pm</td>\n",
       "      <td>2015-01-01</td>\n",
       "      <td>2015</td>\n",
       "      <td>(1, Thursday, 11am)</td>\n",
       "      <td>51</td>\n",
       "      <td>9</td>\n",
       "    </tr>\n",
       "  </tbody>\n",
       "</table>\n",
       "</div>"
      ],
      "text/plain": [
       "   stall           purchased              expiry                         lot  \\\n",
       "0   1724 2015-01-01 09:39:15 2015-01-01 10:09:15                     Bermuda   \n",
       "1   3637 2015-01-01 10:49:53 2015-01-01 12:07:53       Lot 7--W. Troy center   \n",
       "2   5216 2015-01-01 11:51:25 2015-01-01 13:09:25  Lot 13--E. 9-Mile (Como's)   \n",
       "\n",
       "   start_month start_weekday  start_hr_24 start_hr_12  end_month end_weekday  \\\n",
       "0            1      Thursday            9         9am          1    Thursday   \n",
       "1            1      Thursday           10        10am          1    Thursday   \n",
       "2            1      Thursday           11        11am          1    Thursday   \n",
       "\n",
       "   end_hr_24 end_hr_12        date  year         month_day_hr  start_min  \\\n",
       "0         10      10am  2015-01-01  2015   (1, Thursday, 9am)         39   \n",
       "1         12      12pm  2015-01-01  2015  (1, Thursday, 10am)         49   \n",
       "2         13       1pm  2015-01-01  2015  (1, Thursday, 11am)         51   \n",
       "\n",
       "   end_min  \n",
       "0        9  \n",
       "1        7  \n",
       "2        9  "
      ]
     },
     "execution_count": 12,
     "metadata": {},
     "output_type": "execute_result"
    }
   ],
   "source": [
    "data.head(3)"
   ]
  },
  {
   "cell_type": "code",
   "execution_count": 29,
   "metadata": {},
   "outputs": [],
   "source": [
    "# create dictionary to hold data\n",
    "expand_dict = {}\n",
    "def expand_row(row):\n",
    "    row_counter = 0\n",
    "    # hour of purchase\n",
    "    expand_dict[str(row.name) + '.' + str(row_counter)] = {'stall': row.stall, \n",
    "                                                            'lot': row.lot, \n",
    "                                                            'year': row.year,\n",
    "                                                            'month': row.start_month, \n",
    "                                                            'weekday': row.start_weekday, \n",
    "                                                            'hour': row.start_hr_24, \n",
    "                                                            'minutes': 60 - row.start_min}\n",
    "    row_counter += 1\n",
    "    # one day purchase\n",
    "    if row.start_weekday == row.end_weekday:\n",
    "        # add hours between hours of purchase and expiry\n",
    "        for i in range(row.start_hr_24 + 1, row.end_hr_24):\n",
    "            expand_dict[str(row.name) + '.' + str(row_counter)] = {'stall': row.stall, \n",
    "                                                                    'lot': row.lot, \n",
    "                                                                    'year': row.year,\n",
    "                                                                    'month': row.start_month, \n",
    "                                                                    'weekday': row.start_weekday, \n",
    "                                                                    'hour': i, \n",
    "                                                                    'minutes': 60}\n",
    "            row_counter += 1\n",
    "    # multiple day purchase\n",
    "    else:\n",
    "        # first day\n",
    "        for i in range(row.start_hr_24 + 1, 24):\n",
    "            expand_dict[str(row.name) + '.' + str(row_counter)] = {'stall': row.stall, \n",
    "                                                                    'lot': row.lot, \n",
    "                                                                    'year': row.year,\n",
    "                                                                    'month': row.start_month, \n",
    "                                                                    'weekday': row.start_weekday, \n",
    "                                                                    'hour': i, \n",
    "                                                                    'minutes': 60}\n",
    "            row_counter += 1\n",
    "        # middle day during three day purchase - only situation is Saturday - Monday\n",
    "        # possible year is incorrect for next two loops - would happend when first day is Dec 31\n",
    "        if row.start_weekday == 'Saturday' and row.end_weekday == 'Monday':\n",
    "            for i in range(0, 24):\n",
    "                expand_dict[str(row.name) + '.' + str(row_counter)] = {'stall': row.stall, \n",
    "                                                                        'lot': row.lot, \n",
    "                                                                        'year': row.year,\n",
    "                                                                        'month': row.start_month, # possible this is incorrect\n",
    "                                                                        'weekday': 'Sunday', \n",
    "                                                                        'hour': i, \n",
    "                                                                        'minutes': 60}\n",
    "                row_counter += 1\n",
    "        # last day\n",
    "        for i in range(0, row.end_hr_24):\n",
    "            expand_dict[str(row.name) + '.' + str(row_counter)] = {'stall': row.stall, \n",
    "                                                                    'lot': row.lot, \n",
    "                                                                    'year': row.year,\n",
    "                                                                    'month': row.end_month, \n",
    "                                                                    'weekday': row.end_weekday, \n",
    "                                                                    'hour': i, \n",
    "                                                                    'minutes': 60}\n",
    "            row_counter += 1\n",
    "    # hour of expiry\n",
    "    expand_dict[str(row.name) + '.' + str(row_counter)] = {'stall': row.stall, \n",
    "                                                            'lot': row.lot, \n",
    "                                                            'year': row.year,\n",
    "                                                            'month': row.end_month, \n",
    "                                                            'weekday': row.end_weekday, \n",
    "                                                            'hour': row.end_hr_24, \n",
    "                                                            'minutes': row.end_min}"
   ]
  },
  {
   "cell_type": "code",
   "execution_count": 30,
   "metadata": {},
   "outputs": [
    {
     "data": {
      "text/plain": [
       "0          None\n",
       "1          None\n",
       "2          None\n",
       "3          None\n",
       "4          None\n",
       "5          None\n",
       "6          None\n",
       "7          None\n",
       "8          None\n",
       "9          None\n",
       "10         None\n",
       "11         None\n",
       "12         None\n",
       "13         None\n",
       "14         None\n",
       "15         None\n",
       "16         None\n",
       "17         None\n",
       "18         None\n",
       "19         None\n",
       "20         None\n",
       "21         None\n",
       "22         None\n",
       "23         None\n",
       "24         None\n",
       "25         None\n",
       "26         None\n",
       "27         None\n",
       "28         None\n",
       "29         None\n",
       "           ... \n",
       "3481402    None\n",
       "3481403    None\n",
       "3481404    None\n",
       "3481405    None\n",
       "3481406    None\n",
       "3481407    None\n",
       "3481408    None\n",
       "3481409    None\n",
       "3481410    None\n",
       "3481411    None\n",
       "3481412    None\n",
       "3481413    None\n",
       "3481414    None\n",
       "3481415    None\n",
       "3481416    None\n",
       "3481417    None\n",
       "3481418    None\n",
       "3481419    None\n",
       "3481420    None\n",
       "3481421    None\n",
       "3481422    None\n",
       "3481423    None\n",
       "3481424    None\n",
       "3481425    None\n",
       "3481426    None\n",
       "3481427    None\n",
       "3481428    None\n",
       "3481429    None\n",
       "3481430    None\n",
       "3481431    None\n",
       "Length: 3481432, dtype: object"
      ]
     },
     "execution_count": 30,
     "metadata": {},
     "output_type": "execute_result"
    }
   ],
   "source": [
    "data.apply(expand_row, axis=1)"
   ]
  },
  {
   "cell_type": "code",
   "execution_count": 33,
   "metadata": {},
   "outputs": [
    {
     "data": {
      "text/html": [
       "<div>\n",
       "<style scoped>\n",
       "    .dataframe tbody tr th:only-of-type {\n",
       "        vertical-align: middle;\n",
       "    }\n",
       "\n",
       "    .dataframe tbody tr th {\n",
       "        vertical-align: top;\n",
       "    }\n",
       "\n",
       "    .dataframe thead th {\n",
       "        text-align: right;\n",
       "    }\n",
       "</style>\n",
       "<table border=\"1\" class=\"dataframe\">\n",
       "  <thead>\n",
       "    <tr style=\"text-align: right;\">\n",
       "      <th></th>\n",
       "      <th>stall</th>\n",
       "      <th>lot</th>\n",
       "      <th>year</th>\n",
       "      <th>month</th>\n",
       "      <th>weekday</th>\n",
       "      <th>hour</th>\n",
       "      <th>minutes</th>\n",
       "    </tr>\n",
       "  </thead>\n",
       "  <tbody>\n",
       "    <tr>\n",
       "      <th>0.0</th>\n",
       "      <td>1724</td>\n",
       "      <td>Bermuda</td>\n",
       "      <td>2015</td>\n",
       "      <td>1</td>\n",
       "      <td>Thursday</td>\n",
       "      <td>9</td>\n",
       "      <td>21</td>\n",
       "    </tr>\n",
       "    <tr>\n",
       "      <th>0.1</th>\n",
       "      <td>1724</td>\n",
       "      <td>Bermuda</td>\n",
       "      <td>2015</td>\n",
       "      <td>1</td>\n",
       "      <td>Thursday</td>\n",
       "      <td>10</td>\n",
       "      <td>9</td>\n",
       "    </tr>\n",
       "    <tr>\n",
       "      <th>1.0</th>\n",
       "      <td>3637</td>\n",
       "      <td>Lot 7--W. Troy center</td>\n",
       "      <td>2015</td>\n",
       "      <td>1</td>\n",
       "      <td>Thursday</td>\n",
       "      <td>10</td>\n",
       "      <td>11</td>\n",
       "    </tr>\n",
       "    <tr>\n",
       "      <th>1.1</th>\n",
       "      <td>3637</td>\n",
       "      <td>Lot 7--W. Troy center</td>\n",
       "      <td>2015</td>\n",
       "      <td>1</td>\n",
       "      <td>Thursday</td>\n",
       "      <td>11</td>\n",
       "      <td>60</td>\n",
       "    </tr>\n",
       "    <tr>\n",
       "      <th>1.2</th>\n",
       "      <td>3637</td>\n",
       "      <td>Lot 7--W. Troy center</td>\n",
       "      <td>2015</td>\n",
       "      <td>1</td>\n",
       "      <td>Thursday</td>\n",
       "      <td>12</td>\n",
       "      <td>7</td>\n",
       "    </tr>\n",
       "  </tbody>\n",
       "</table>\n",
       "</div>"
      ],
      "text/plain": [
       "     stall                    lot  year  month   weekday  hour  minutes\n",
       "0.0   1724                Bermuda  2015      1  Thursday     9       21\n",
       "0.1   1724                Bermuda  2015      1  Thursday    10        9\n",
       "1.0   3637  Lot 7--W. Troy center  2015      1  Thursday    10       11\n",
       "1.1   3637  Lot 7--W. Troy center  2015      1  Thursday    11       60\n",
       "1.2   3637  Lot 7--W. Troy center  2015      1  Thursday    12        7"
      ]
     },
     "execution_count": 33,
     "metadata": {},
     "output_type": "execute_result"
    }
   ],
   "source": [
    "expand_df = pd.DataFrame.from_dict(expand_dict, orient='index')\n",
    "expand_df.head()"
   ]
  },
  {
   "cell_type": "code",
   "execution_count": 34,
   "metadata": {},
   "outputs": [],
   "source": [
    "expand_df.to_csv(\"expanded_data.csv\", index=False)"
   ]
  },
  {
   "cell_type": "markdown",
   "metadata": {},
   "source": [
    "## **FORMING ESTIMATION DICTIONARIES (FULL DATASET + SPLIT OUT BY YEAR)**"
   ]
  },
  {
   "cell_type": "code",
   "execution_count": 11,
   "metadata": {},
   "outputs": [
    {
     "data": {
      "text/html": [
       "<div>\n",
       "<style scoped>\n",
       "    .dataframe tbody tr th:only-of-type {\n",
       "        vertical-align: middle;\n",
       "    }\n",
       "\n",
       "    .dataframe tbody tr th {\n",
       "        vertical-align: top;\n",
       "    }\n",
       "\n",
       "    .dataframe thead th {\n",
       "        text-align: right;\n",
       "    }\n",
       "</style>\n",
       "<table border=\"1\" class=\"dataframe\">\n",
       "  <thead>\n",
       "    <tr style=\"text-align: right;\">\n",
       "      <th></th>\n",
       "      <th>stall</th>\n",
       "      <th>lot</th>\n",
       "      <th>year</th>\n",
       "      <th>month</th>\n",
       "      <th>weekday</th>\n",
       "      <th>hour</th>\n",
       "      <th>minutes</th>\n",
       "    </tr>\n",
       "  </thead>\n",
       "  <tbody>\n",
       "    <tr>\n",
       "      <th>0</th>\n",
       "      <td>1724</td>\n",
       "      <td>Bermuda</td>\n",
       "      <td>2015</td>\n",
       "      <td>1</td>\n",
       "      <td>Thursday</td>\n",
       "      <td>9</td>\n",
       "      <td>21</td>\n",
       "    </tr>\n",
       "    <tr>\n",
       "      <th>1</th>\n",
       "      <td>1724</td>\n",
       "      <td>Bermuda</td>\n",
       "      <td>2015</td>\n",
       "      <td>1</td>\n",
       "      <td>Thursday</td>\n",
       "      <td>10</td>\n",
       "      <td>9</td>\n",
       "    </tr>\n",
       "    <tr>\n",
       "      <th>2</th>\n",
       "      <td>3637</td>\n",
       "      <td>Lot 7--W. Troy center</td>\n",
       "      <td>2015</td>\n",
       "      <td>1</td>\n",
       "      <td>Thursday</td>\n",
       "      <td>10</td>\n",
       "      <td>11</td>\n",
       "    </tr>\n",
       "    <tr>\n",
       "      <th>3</th>\n",
       "      <td>3637</td>\n",
       "      <td>Lot 7--W. Troy center</td>\n",
       "      <td>2015</td>\n",
       "      <td>1</td>\n",
       "      <td>Thursday</td>\n",
       "      <td>11</td>\n",
       "      <td>60</td>\n",
       "    </tr>\n",
       "    <tr>\n",
       "      <th>4</th>\n",
       "      <td>3637</td>\n",
       "      <td>Lot 7--W. Troy center</td>\n",
       "      <td>2015</td>\n",
       "      <td>1</td>\n",
       "      <td>Thursday</td>\n",
       "      <td>12</td>\n",
       "      <td>7</td>\n",
       "    </tr>\n",
       "  </tbody>\n",
       "</table>\n",
       "</div>"
      ],
      "text/plain": [
       "   stall                    lot  year  month   weekday  hour  minutes\n",
       "0   1724                Bermuda  2015      1  Thursday     9       21\n",
       "1   1724                Bermuda  2015      1  Thursday    10        9\n",
       "2   3637  Lot 7--W. Troy center  2015      1  Thursday    10       11\n",
       "3   3637  Lot 7--W. Troy center  2015      1  Thursday    11       60\n",
       "4   3637  Lot 7--W. Troy center  2015      1  Thursday    12        7"
      ]
     },
     "execution_count": 11,
     "metadata": {},
     "output_type": "execute_result"
    }
   ],
   "source": [
    "# use expanded data frame\n",
    "expand_df = pd.read_csv(\"expanded_data.csv\")\n",
    "expand_df.head()"
   ]
  },
  {
   "cell_type": "markdown",
   "metadata": {},
   "source": [
    "**ALL DATA**"
   ]
  },
  {
   "cell_type": "code",
   "execution_count": 43,
   "metadata": {},
   "outputs": [
    {
     "name": "stdout",
     "output_type": "stream",
     "text": [
      "Bermuda\n",
      "Lot 7--W. Troy center\n",
      "Lot 13--E. 9-Mile (Como's)\n",
      "E. Troy\n",
      "Lot 10--Library\n",
      "Lot 3--S. Withington\n",
      "W. Nine Mile\n",
      "Lot 8--W. Troy (Betty's)\n",
      "NB Woodward\n",
      "NONE\n",
      "Vester\n",
      "Lot 11--City Hall\n",
      "Lot 1--W. Breckenridge\n",
      "Lot 15--E. Breckenridge\n",
      "Lot 2--N. Withington\n",
      "Lot 4--Planavon\n",
      "E. Nine Mile\n",
      "Lot 9--Falvey\n",
      "SB Woodward\n",
      "W. Troy\n",
      "Withington\n",
      "W. Saratoga\n",
      "E. Breckenridge\n",
      "Planavon\n",
      "E. Saratoga\n",
      "Ardmoor\n"
     ]
    }
   ],
   "source": [
    "est_dict = {}\n",
    "for lot in lots:\n",
    "    lot_df = expand_df.query(\"lot == @lot\")\n",
    "    est_dict[lot] = {}\n",
    "    for c in context:\n",
    "        mon = c[0]\n",
    "        day = c[1]\n",
    "        hr = hr_map[c[2]]\n",
    "        instance = lot_df.query(\"month == @mon & weekday == @day & hour == @hr\")\n",
    "        days = num_day_dict[mon][day]\n",
    "        n = sum(instance.minutes)\n",
    "        #print(instance)\n",
    "        try:\n",
    "            avg = (n/60)/days\n",
    "            est_dict[lot][c] = avg/location_dict[lot]\n",
    "        except:\n",
    "            est_dict[lot][c] = 0"
   ]
  },
  {
   "cell_type": "markdown",
   "metadata": {},
   "source": [
    "**2015**"
   ]
  },
  {
   "cell_type": "code",
   "execution_count": 187,
   "metadata": {},
   "outputs": [],
   "source": [
    "est_dict_15 = {}\n",
    "data_15 = data[data.year == 2015]\n",
    "for lot in lots:\n",
    "    lot_df = data_15[data_15.lot == lot]\n",
    "    est_dict_15[lot] = {}\n",
    "    for c in context:\n",
    "        instance = lot_df[lot_df.month_day_hr == c]\n",
    "        days = len(list(instance.date.unique()))\n",
    "        n = len(instance)\n",
    "        #print(instance)\n",
    "        try:\n",
    "            avg = n/days\n",
    "            est_dict_15[lot][c] = avg/location_dict[lot]\n",
    "        except:\n",
    "            est_dict_15[lot][c] = 0"
   ]
  },
  {
   "cell_type": "markdown",
   "metadata": {},
   "source": [
    "**2016**"
   ]
  },
  {
   "cell_type": "code",
   "execution_count": 208,
   "metadata": {},
   "outputs": [],
   "source": [
    "est_dict_16 = {}\n",
    "data_16 = data[data.year == 2016]\n",
    "for lot in lots:\n",
    "    lot_df = data_16[data_16.lot == lot]\n",
    "    est_dict_16[lot] = {}\n",
    "    for c in context:\n",
    "        instance = lot_df[lot_df.month_day_hr == c]\n",
    "        days = len(list(instance.date.unique()))\n",
    "        n = len(instance)\n",
    "        #print(instance)\n",
    "        try:\n",
    "            avg = n/days\n",
    "            est_dict_16[lot][c] = avg/location_dict[lot]\n",
    "        except:\n",
    "            est_dict_16[lot][c] = 0"
   ]
  },
  {
   "cell_type": "markdown",
   "metadata": {},
   "source": [
    "**2017**"
   ]
  },
  {
   "cell_type": "code",
   "execution_count": 218,
   "metadata": {},
   "outputs": [],
   "source": [
    "est_dict_17 = {}\n",
    "data_17 = data[data.year == 2017]\n",
    "for lot in lots:\n",
    "    lot_df = data_17[data_17.lot == lot]\n",
    "    est_dict_17[lot] = {}\n",
    "    for c in context:\n",
    "        instance = lot_df[lot_df.month_day_hr == c]\n",
    "        days = len(list(instance.date.unique()))\n",
    "        n = len(instance)\n",
    "        #print(instance)\n",
    "        try:\n",
    "            avg = n/days\n",
    "            est_dict_17[lot][c] = avg/location_dict[lot]\n",
    "        except:\n",
    "            est_dict_17[lot][c] = 0"
   ]
  },
  {
   "cell_type": "markdown",
   "metadata": {},
   "source": [
    "**2018**"
   ]
  },
  {
   "cell_type": "code",
   "execution_count": 219,
   "metadata": {},
   "outputs": [],
   "source": [
    "est_dict_18 = {}\n",
    "data_18 = data[data.year == 2018]\n",
    "for lot in lots:\n",
    "    lot_df = data_18[data_18.lot == lot]\n",
    "    est_dict_18[lot] = {}\n",
    "    for c in context:\n",
    "        instance = lot_df[lot_df.month_day_hr == c]\n",
    "        days = len(list(instance.date.unique()))\n",
    "        n = len(instance)\n",
    "        #print(instance)\n",
    "        try:\n",
    "            avg = n/days\n",
    "            est_dict_18[lot][c] = avg/location_dict[lot]\n",
    "        except:\n",
    "            est_dict_18[lot][c] = 0"
   ]
  },
  {
   "cell_type": "markdown",
   "metadata": {},
   "source": [
    "**2019**"
   ]
  },
  {
   "cell_type": "code",
   "execution_count": 220,
   "metadata": {},
   "outputs": [],
   "source": [
    "est_dict_19 = {}\n",
    "data_19 = data[data.year == 2019]\n",
    "for lot in lots:\n",
    "    lot_df = data_19[data_19.lot == lot]\n",
    "    est_dict_19[lot] = {}\n",
    "    for c in context:\n",
    "        instance = lot_df[lot_df.month_day_hr == c]\n",
    "        days = len(list(instance.date.unique()))\n",
    "        n = len(instance)\n",
    "        #print(instance)\n",
    "        try:\n",
    "            avg = n/days\n",
    "            est_dict_19[lot][c] = avg/location_dict[lot]\n",
    "        except:\n",
    "            est_dict_19[lot][c] = 0"
   ]
  },
  {
   "cell_type": "markdown",
   "metadata": {},
   "source": [
    "## **CREATING DATAFRAMES FROM THE ESTIMATION DICTIONARIES**"
   ]
  },
  {
   "cell_type": "markdown",
   "metadata": {},
   "source": [
    "**ALL DATA**"
   ]
  },
  {
   "cell_type": "code",
   "execution_count": 45,
   "metadata": {},
   "outputs": [],
   "source": [
    "est_df = pd.DataFrame.from_dict(data = est_dict).reset_index().drop(columns= [\"NONE\"]).rename(columns = {\"level_0\": \"Month\", \"level_1\": \"Weekday\", \"level_2\": \"Time\"})"
   ]
  },
  {
   "cell_type": "markdown",
   "metadata": {},
   "source": [
    "**2015**"
   ]
  },
  {
   "cell_type": "code",
   "execution_count": 198,
   "metadata": {},
   "outputs": [],
   "source": [
    "est_df_15 = pd.DataFrame.from_dict(data = est_dict_15).reset_index().drop(columns= [\"NONE\"]).rename(columns = {\"level_0\": \"Month\", \"level_1\": \"Weekday\", \"level_2\": \"Time\"})"
   ]
  },
  {
   "cell_type": "markdown",
   "metadata": {},
   "source": [
    "**2016**"
   ]
  },
  {
   "cell_type": "code",
   "execution_count": 209,
   "metadata": {},
   "outputs": [],
   "source": [
    "est_df_16 = pd.DataFrame.from_dict(data = est_dict_16).reset_index().drop(columns= [\"NONE\"]).rename(columns = {\"level_0\": \"Month\", \"level_1\": \"Weekday\", \"level_2\": \"Time\"})"
   ]
  },
  {
   "cell_type": "markdown",
   "metadata": {},
   "source": [
    "**2017**"
   ]
  },
  {
   "cell_type": "code",
   "execution_count": 221,
   "metadata": {},
   "outputs": [],
   "source": [
    "est_df_17 = pd.DataFrame.from_dict(data = est_dict_17).reset_index().drop(columns= [\"NONE\"]).rename(columns = {\"level_0\": \"Month\", \"level_1\": \"Weekday\", \"level_2\": \"Time\"})"
   ]
  },
  {
   "cell_type": "markdown",
   "metadata": {},
   "source": [
    "**2018**"
   ]
  },
  {
   "cell_type": "code",
   "execution_count": 222,
   "metadata": {},
   "outputs": [],
   "source": [
    "est_df_18 = pd.DataFrame.from_dict(data = est_dict_18).reset_index().drop(columns= [\"NONE\"]).rename(columns = {\"level_0\": \"Month\", \"level_1\": \"Weekday\", \"level_2\": \"Time\"})"
   ]
  },
  {
   "cell_type": "markdown",
   "metadata": {},
   "source": [
    "**2019**"
   ]
  },
  {
   "cell_type": "code",
   "execution_count": 223,
   "metadata": {},
   "outputs": [],
   "source": [
    "est_df_19 = pd.DataFrame.from_dict(data = est_dict_19).reset_index().drop(columns= [\"NONE\"]).rename(columns = {\"level_0\": \"Month\", \"level_1\": \"Weekday\", \"level_2\": \"Time\"})"
   ]
  },
  {
   "cell_type": "markdown",
   "metadata": {},
   "source": [
    "### **SOME TRANSFORMATION FUNCTIONS FOR DF SORTING PURPOSES**"
   ]
  },
  {
   "cell_type": "code",
   "execution_count": 47,
   "metadata": {},
   "outputs": [],
   "source": [
    "def hr_24(t):\n",
    "    if \"am\" in t and \"12\" not in t:\n",
    "        t = int(t[:-2])\n",
    "    elif \"pm\" in t and \"12\" not in t:\n",
    "        t = int(t[:-2]) + 12\n",
    "    elif t == \"12am\":\n",
    "        t = 0\n",
    "    else:\n",
    "        t = 12\n",
    "    return t"
   ]
  },
  {
   "cell_type": "code",
   "execution_count": 48,
   "metadata": {},
   "outputs": [],
   "source": [
    "day_dict = {\"Monday\": 0, \"Tuesday\": 1, \"Wednesday\": 2, \"Thursday\": 3, \"Friday\": 4, \"Saturday\": 5, \"Sunday\": 6}\n",
    "def day_num(day, days = day_dict):\n",
    "    return days[day]"
   ]
  },
  {
   "cell_type": "markdown",
   "metadata": {},
   "source": [
    "### **APPLYING TRANSFORMATION FUNCTIONS**"
   ]
  },
  {
   "cell_type": "markdown",
   "metadata": {},
   "source": [
    "**ALL DATA**"
   ]
  },
  {
   "cell_type": "code",
   "execution_count": 49,
   "metadata": {},
   "outputs": [],
   "source": [
    "est_df['24_Time'] = est_df['Time'].apply(hr_24)\n"
   ]
  },
  {
   "cell_type": "code",
   "execution_count": 50,
   "metadata": {},
   "outputs": [],
   "source": [
    "est_df[\"dayNum\"] = est_df['Weekday'].apply(day_num)\n"
   ]
  },
  {
   "cell_type": "markdown",
   "metadata": {},
   "source": [
    "**2015**"
   ]
  },
  {
   "cell_type": "code",
   "execution_count": 199,
   "metadata": {},
   "outputs": [],
   "source": [
    "est_df_15['24_Time'] = est_df_15['Time'].apply(hr_24)\n"
   ]
  },
  {
   "cell_type": "code",
   "execution_count": 200,
   "metadata": {},
   "outputs": [],
   "source": [
    "est_df_15[\"dayNum\"] = est_df_15['Weekday'].apply(day_num)\n"
   ]
  },
  {
   "cell_type": "markdown",
   "metadata": {},
   "source": [
    "**2016**"
   ]
  },
  {
   "cell_type": "code",
   "execution_count": 210,
   "metadata": {},
   "outputs": [],
   "source": [
    "est_df_16['24_Time'] = est_df_16['Time'].apply(hr_24)\n"
   ]
  },
  {
   "cell_type": "code",
   "execution_count": 211,
   "metadata": {},
   "outputs": [],
   "source": [
    "est_df_16[\"dayNum\"] = est_df_16['Weekday'].apply(day_num)\n"
   ]
  },
  {
   "cell_type": "markdown",
   "metadata": {},
   "source": [
    "**2017**"
   ]
  },
  {
   "cell_type": "code",
   "execution_count": 224,
   "metadata": {},
   "outputs": [],
   "source": [
    "est_df_17['24_Time'] = est_df_17['Time'].apply(hr_24)\n"
   ]
  },
  {
   "cell_type": "code",
   "execution_count": 225,
   "metadata": {},
   "outputs": [],
   "source": [
    "est_df_17[\"dayNum\"] = est_df_17['Weekday'].apply(day_num)\n"
   ]
  },
  {
   "cell_type": "markdown",
   "metadata": {},
   "source": [
    "**2018**"
   ]
  },
  {
   "cell_type": "code",
   "execution_count": 226,
   "metadata": {},
   "outputs": [],
   "source": [
    "est_df_18['24_Time'] = est_df_18['Time'].apply(hr_24)\n"
   ]
  },
  {
   "cell_type": "code",
   "execution_count": 227,
   "metadata": {},
   "outputs": [],
   "source": [
    "est_df_18[\"dayNum\"] = est_df_18['Weekday'].apply(day_num)\n"
   ]
  },
  {
   "cell_type": "markdown",
   "metadata": {},
   "source": [
    "**2019**"
   ]
  },
  {
   "cell_type": "code",
   "execution_count": 228,
   "metadata": {},
   "outputs": [],
   "source": [
    "est_df_19['24_Time'] = est_df_19['Time'].apply(hr_24)\n"
   ]
  },
  {
   "cell_type": "code",
   "execution_count": 229,
   "metadata": {},
   "outputs": [],
   "source": [
    "est_df_19[\"dayNum\"] = est_df_19['Weekday'].apply(day_num)\n"
   ]
  },
  {
   "cell_type": "markdown",
   "metadata": {},
   "source": [
    "## **SORTING - MOSTLY FOR VIEWABILITY DURING DEVELOPMENT AND CREATING CLEAN CSVs**"
   ]
  },
  {
   "cell_type": "markdown",
   "metadata": {},
   "source": [
    "**ALL DATA**"
   ]
  },
  {
   "cell_type": "code",
   "execution_count": 51,
   "metadata": {},
   "outputs": [],
   "source": [
    "est_df = est_df.sort_values(by=['Month', '24_Time', 'dayNum'])\n",
    "est_df.to_csv(\"estimations.csv\", index = False)"
   ]
  },
  {
   "cell_type": "markdown",
   "metadata": {},
   "source": [
    "**2015**"
   ]
  },
  {
   "cell_type": "code",
   "execution_count": 201,
   "metadata": {},
   "outputs": [],
   "source": [
    "est_df_15 = est_df_15.sort_values(by=['Month', '24_Time', 'dayNum'])\n",
    "est_df_15.to_csv(\"estimations15.csv\", index = False)"
   ]
  },
  {
   "cell_type": "markdown",
   "metadata": {},
   "source": [
    "**2016**"
   ]
  },
  {
   "cell_type": "code",
   "execution_count": 215,
   "metadata": {},
   "outputs": [],
   "source": [
    "est_df_16 = est_df_16.sort_values(by=['Month', '24_Time', 'dayNum'])\n",
    "est_df_16.to_csv(\"estimations16.csv\", index = False)"
   ]
  },
  {
   "cell_type": "markdown",
   "metadata": {},
   "source": [
    "**2017**"
   ]
  },
  {
   "cell_type": "code",
   "execution_count": 230,
   "metadata": {},
   "outputs": [],
   "source": [
    "est_df_17 = est_df_17.sort_values(by=['Month', '24_Time', 'dayNum'])\n",
    "est_df_17.to_csv(\"estimations17.csv\", index = False)"
   ]
  },
  {
   "cell_type": "markdown",
   "metadata": {},
   "source": [
    "**2018**"
   ]
  },
  {
   "cell_type": "code",
   "execution_count": 231,
   "metadata": {},
   "outputs": [],
   "source": [
    "est_df_18 = est_df_18.sort_values(by=['Month', '24_Time', 'dayNum'])\n",
    "est_df_18.to_csv(\"estimations18.csv\", index = False)"
   ]
  },
  {
   "cell_type": "markdown",
   "metadata": {},
   "source": [
    "**2019**"
   ]
  },
  {
   "cell_type": "code",
   "execution_count": 232,
   "metadata": {},
   "outputs": [],
   "source": [
    "est_df_19 = est_df_19.sort_values(by=['Month', '24_Time', 'dayNum'])\n",
    "est_df_19.to_csv(\"estimations19.csv\", index = False)"
   ]
  },
  {
   "cell_type": "markdown",
   "metadata": {},
   "source": [
    "## **DEFINING GET_ESTIMATION FUNCTIONS AND TESTING THE DATAFRAME(S)**"
   ]
  },
  {
   "cell_type": "code",
   "execution_count": 52,
   "metadata": {},
   "outputs": [],
   "source": [
    "#Input month number, time of day (in 12 hour format), and weekday (in string format) to receive\n",
    "#a single row in the estimation DataFrame satisfying the condition - this will be important functionality\n",
    "#for making calls to the REST API\n",
    "\n",
    "def get_estimation(month, time, day, df = est_df):\n",
    "    return df[(est_df.Month == month) & (est_df.Time == time) & (est_df.Weekday == day)]\n"
   ]
  },
  {
   "cell_type": "code",
   "execution_count": 61,
   "metadata": {},
   "outputs": [
    {
     "data": {
      "text/html": [
       "<div>\n",
       "<style scoped>\n",
       "    .dataframe tbody tr th:only-of-type {\n",
       "        vertical-align: middle;\n",
       "    }\n",
       "\n",
       "    .dataframe tbody tr th {\n",
       "        vertical-align: top;\n",
       "    }\n",
       "\n",
       "    .dataframe thead th {\n",
       "        text-align: right;\n",
       "    }\n",
       "</style>\n",
       "<table border=\"1\" class=\"dataframe\">\n",
       "  <thead>\n",
       "    <tr style=\"text-align: right;\">\n",
       "      <th></th>\n",
       "      <th>Month</th>\n",
       "      <th>Weekday</th>\n",
       "      <th>Time</th>\n",
       "      <th>Bermuda</th>\n",
       "      <th>Lot 7--W. Troy center</th>\n",
       "      <th>Lot 13--E. 9-Mile (Como's)</th>\n",
       "      <th>E. Troy</th>\n",
       "      <th>Lot 10--Library</th>\n",
       "      <th>Lot 3--S. Withington</th>\n",
       "      <th>W. Nine Mile</th>\n",
       "      <th>Lot 8--W. Troy (Betty's)</th>\n",
       "      <th>NB Woodward</th>\n",
       "      <th>Vester</th>\n",
       "      <th>Lot 11--City Hall</th>\n",
       "      <th>Lot 1--W. Breckenridge</th>\n",
       "      <th>Lot 15--E. Breckenridge</th>\n",
       "      <th>Lot 2--N. Withington</th>\n",
       "      <th>Lot 4--Planavon</th>\n",
       "      <th>E. Nine Mile</th>\n",
       "      <th>Lot 9--Falvey</th>\n",
       "      <th>SB Woodward</th>\n",
       "      <th>W. Troy</th>\n",
       "      <th>Withington</th>\n",
       "      <th>W. Saratoga</th>\n",
       "      <th>E. Breckenridge</th>\n",
       "      <th>Planavon</th>\n",
       "      <th>E. Saratoga</th>\n",
       "      <th>Ardmoor</th>\n",
       "      <th>24_Time</th>\n",
       "      <th>dayNum</th>\n",
       "    </tr>\n",
       "  </thead>\n",
       "  <tbody>\n",
       "    <tr>\n",
       "      <th>888</th>\n",
       "      <td>7</td>\n",
       "      <td>Friday</td>\n",
       "      <td>8pm</td>\n",
       "      <td>0.371605</td>\n",
       "      <td>0.979183</td>\n",
       "      <td>1.015097</td>\n",
       "      <td>0.669753</td>\n",
       "      <td>0.807911</td>\n",
       "      <td>1.042298</td>\n",
       "      <td>0.235717</td>\n",
       "      <td>1.102849</td>\n",
       "      <td>0.210031</td>\n",
       "      <td>0.784325</td>\n",
       "      <td>0.582813</td>\n",
       "      <td>0.533049</td>\n",
       "      <td>1.077603</td>\n",
       "      <td>0.725439</td>\n",
       "      <td>1.075278</td>\n",
       "      <td>0.301406</td>\n",
       "      <td>0.756038</td>\n",
       "      <td>0.171639</td>\n",
       "      <td>0.69</td>\n",
       "      <td>0.738386</td>\n",
       "      <td>0.207828</td>\n",
       "      <td>0.19881</td>\n",
       "      <td>0.261728</td>\n",
       "      <td>0.208951</td>\n",
       "      <td>0.042824</td>\n",
       "      <td>20</td>\n",
       "      <td>4</td>\n",
       "    </tr>\n",
       "  </tbody>\n",
       "</table>\n",
       "</div>"
      ],
      "text/plain": [
       "     Month Weekday Time   Bermuda  Lot 7--W. Troy center  \\\n",
       "888      7  Friday  8pm  0.371605               0.979183   \n",
       "\n",
       "     Lot 13--E. 9-Mile (Como's)   E. Troy  Lot 10--Library  \\\n",
       "888                    1.015097  0.669753         0.807911   \n",
       "\n",
       "     Lot 3--S. Withington  W. Nine Mile  Lot 8--W. Troy (Betty's)  \\\n",
       "888              1.042298      0.235717                  1.102849   \n",
       "\n",
       "     NB Woodward    Vester  Lot 11--City Hall  Lot 1--W. Breckenridge  \\\n",
       "888     0.210031  0.784325           0.582813                0.533049   \n",
       "\n",
       "     Lot 15--E. Breckenridge  Lot 2--N. Withington  Lot 4--Planavon  \\\n",
       "888                 1.077603              0.725439         1.075278   \n",
       "\n",
       "     E. Nine Mile  Lot 9--Falvey  SB Woodward  W. Troy  Withington  \\\n",
       "888      0.301406       0.756038     0.171639     0.69    0.738386   \n",
       "\n",
       "     W. Saratoga  E. Breckenridge  Planavon  E. Saratoga   Ardmoor  24_Time  \\\n",
       "888     0.207828          0.19881  0.261728     0.208951  0.042824       20   \n",
       "\n",
       "     dayNum  \n",
       "888       4  "
      ]
     },
     "execution_count": 61,
     "metadata": {},
     "output_type": "execute_result"
    }
   ],
   "source": [
    "get_estimation(7, \"8pm\", \"Friday\")"
   ]
  },
  {
   "cell_type": "code",
   "execution_count": 62,
   "metadata": {},
   "outputs": [],
   "source": [
    "#Similar to get_estimation, but only returns the estimated occupancy for a single lot \n",
    "#rather than the entire row of the DataFrame, which contains the data for all the lots\n",
    "def get_estimation_by_lot(month, time, day, lot, df = est_df):\n",
    "    return list(df[(est_df.Month == month) & (est_df.Time == time) & (est_df.Weekday == day)][lot])[0]"
   ]
  },
  {
   "cell_type": "code",
   "execution_count": 63,
   "metadata": {},
   "outputs": [
    {
     "data": {
      "text/plain": [
       "0.6250618374558303"
      ]
     },
     "execution_count": 63,
     "metadata": {},
     "output_type": "execute_result"
    }
   ],
   "source": [
    "get_estimation_by_lot(2, \"5pm\", \"Friday\", \"Lot 3--S. Withington\")"
   ]
  },
  {
   "cell_type": "code",
   "execution_count": 239,
   "metadata": {},
   "outputs": [
    {
     "data": {
      "text/plain": [
       "0.3630742049469965"
      ]
     },
     "execution_count": 239,
     "metadata": {},
     "output_type": "execute_result"
    }
   ],
   "source": [
    "get_estimation_by_lot(2, \"5pm\", \"Friday\", \"Lot 3--S. Withington\", df = est_df_15)"
   ]
  },
  {
   "cell_type": "code",
   "execution_count": 240,
   "metadata": {},
   "outputs": [
    {
     "data": {
      "text/plain": [
       "0.338339222614841"
      ]
     },
     "execution_count": 240,
     "metadata": {},
     "output_type": "execute_result"
    }
   ],
   "source": [
    "get_estimation_by_lot(2, \"5pm\", \"Friday\", \"Lot 3--S. Withington\", df = est_df_16)"
   ]
  },
  {
   "cell_type": "code",
   "execution_count": 241,
   "metadata": {},
   "outputs": [
    {
     "data": {
      "text/plain": [
       "0.5247349823321554"
      ]
     },
     "execution_count": 241,
     "metadata": {},
     "output_type": "execute_result"
    }
   ],
   "source": [
    "get_estimation_by_lot(2, \"5pm\", \"Friday\", \"Lot 3--S. Withington\", df = est_df_17)"
   ]
  },
  {
   "cell_type": "code",
   "execution_count": 242,
   "metadata": {},
   "outputs": [
    {
     "data": {
      "text/plain": [
       "0.42226148409893993"
      ]
     },
     "execution_count": 242,
     "metadata": {},
     "output_type": "execute_result"
    }
   ],
   "source": [
    "get_estimation_by_lot(2, \"5pm\", \"Friday\", \"Lot 3--S. Withington\", df = est_df_18)"
   ]
  },
  {
   "cell_type": "code",
   "execution_count": 243,
   "metadata": {},
   "outputs": [
    {
     "data": {
      "text/plain": [
       "0.36042402826855124"
      ]
     },
     "execution_count": 243,
     "metadata": {},
     "output_type": "execute_result"
    }
   ],
   "source": [
    "get_estimation_by_lot(2, \"5pm\", \"Friday\", \"Lot 3--S. Withington\", df = est_df_19)"
   ]
  }
 ],
 "metadata": {
  "kernelspec": {
   "display_name": "Python [default]",
   "language": "python",
   "name": "python3"
  },
  "language_info": {
   "codemirror_mode": {
    "name": "ipython",
    "version": 3
   },
   "file_extension": ".py",
   "mimetype": "text/x-python",
   "name": "python",
   "nbconvert_exporter": "python",
   "pygments_lexer": "ipython3",
   "version": "3.6.5"
  }
 },
 "nbformat": 4,
 "nbformat_minor": 2
}
